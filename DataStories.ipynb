{
 "cells": [
  {
   "attachments": {},
   "cell_type": "markdown",
   "id": "735e28b7",
   "metadata": {},
   "source": [
    "# <center> The relation between electric vehicles and air quality in New York City </center>"
   ]
  },
  {
   "attachments": {},
   "cell_type": "markdown",
   "id": "ead06f76",
   "metadata": {},
   "source": [
    "<center>Student names: Joep Minke (13535345), Tom Stoltenborg (5975980), Bor Ipema (13977687), Julian van Noortwijk (12578975)</center>   <center>Group: K1</center>\n"
   ]
  },
  {
   "attachments": {},
   "cell_type": "markdown",
   "id": "3d948b43",
   "metadata": {},
   "source": [
    "<div>\n",
    "    <img src=\"attachment:ny_fog.jpg\" alt=\"NY Fog\" width=\"600\" height=\"400\">\n",
    "</div>\n"
   ]
  },
  {
   "attachments": {},
   "cell_type": "markdown",
   "id": "e795013e",
   "metadata": {},
   "source": [
    "<center> &copy; A smoky haze from wildfires in Canada diminishes the visibility of the Empire State Building, June 7, 2023, in New York / David Dee Delgado </center>"
   ]
  },
  {
   "attachments": {},
   "cell_type": "markdown",
   "id": "21008c13",
   "metadata": {},
   "source": [
    "## Introduction"
   ]
  },
  {
   "cell_type": "code",
   "execution_count": 1,
   "id": "c3e272f1",
   "metadata": {
    "tags": []
   },
   "outputs": [],
   "source": [
    "# Imports\n",
    "import plotly.graph_objs as go\n",
    "import plotly.express as px\n",
    "import matplotlib.pyplot as plt\n",
    "import matplotlib.colors as colors\n",
    "import seaborn as sns\n",
    "import matplotlib.patches as mpatches\n",
    "import fiona\n",
    "import numpy as np\n",
    "import pandas as pd\n",
    "import geopandas as gpd\n",
    "import importnb\n",
    "from matplotlib import colors\n",
    "from ipywidgets import interact\n",
    "from importnb import Notebook\n",
    "with Notebook():\n",
    "    import cleaned_data\n",
    "\n",
    "df1 = cleaned_data.df1\n",
    "df2 = cleaned_data.df2\n",
    "df2_copy = cleaned_data.df2_copy\n",
    "df3 = cleaned_data.df3\n",
    "df4 = cleaned_data.df4"
   ]
  },
  {
   "attachments": {},
   "cell_type": "markdown",
   "id": "ad71e2e0",
   "metadata": {},
   "source": [
    "The increasing concern for environmental sustainability has led to a global shift toward electric vehicles (EVs) as a cleaner transportation alternative. In New York City, where air quality remains a significant challenge, understanding the relationship between EV adoption and air quality in specific districts is crucial. This notebook aims to analyze the impact of EV adoption on air quality within different districts of New York City. By creating visualizations of data on EV's and air quality in New York City, we seek to identify correlations and causal relationships, providing insights on the relation between electric vehicles and air quality.\n",
    "\n",
    "This notebook explores two contrasting perspectives on the impact of EV usage on air quality: one emphasizing its positive effects and arguing a noticeable increase in air quality and the other highlighting potential limitations that could keep increased EV usage from having making a substantial difference.\n",
    "\n",
    "Perspectives:\n",
    "\n",
    "Electric vehicles have a positive impact on the air quality in cities\n",
    "\n",
    "Electric vehicles have no or an insignificant impact on the air quality in cities\n"
   ]
  },
  {
   "attachments": {},
   "cell_type": "markdown",
   "id": "87326e1e",
   "metadata": {},
   "source": [
    "## Datasets and Preprocessing"
   ]
  },
  {
   "attachments": {},
   "cell_type": "markdown",
   "id": "4d76f630",
   "metadata": {},
   "source": [
    "### Charging Stations\n",
    "The dataset provides information on the exact locations of electic vehicle (EV)charging stations in the state of New York. It includes details to what EV Network each charging station belongs, as well as the date each charging station was opened.\n",
    "To clean up the dataset columns were selected based on their relevance to our analysis and after that the dataframe was filtered on the five counties. \n",
    "### Air Quality\n",
    "This dataset provides information on various air pollutans with their corresponding geo location and their measurements in either the summer, winter or the yearly average.  \n",
    "\n",
    "Since for example Ozone 3 (O3) is not directly emitted but gets generated on warm days with plenty of sunlight, it may not provide accurate insights into the impact of electric vehicles. Additionally, its data is limited to summer measurements only, making it unsuitable for creating a yearly average chart.\n",
    "\n",
    "By excluding Ozone 3 from the analysis and focusing on NO2 and PM2.5, it is possible to obtain more meaningful results. That is because these pollutants are directly associated with fuel combustion and can help assess the effectiveness of electric vehicles in reducing harmful emissions and improving air quality. \n",
    "\n",
    "\n",
    "\n",
    "### Vehicle and boat registrations by fuel type per county\n",
    "This dataset provides information on vehicle and boat registrations in various counties, categorized by fuel type. The dataset allows for analysis of the distribution of registrations based on different fuel types across different counties.\n",
    "    \n",
    "The only vehicle type we're interested in are cars, so for example: boats were dropped. The fuel types were grouped into broader categories. Categories such as 'COMP N/G', 'FLEX', 'OTHER', 'NONE', and 'PROPANE' were combined under the 'OTHER' category. Similarly, 'DIESEL' and 'GAS' were grouped as 'GAS/DIESEL'.\n",
    "\n",
    "### Electric Vehicles\n",
    "This dataset provides information about electric vehicles (EVs) registered in various cities and counties within the state of New York. The dataset includes columns such as City, County, and Model Year, allowing for analysis of EV distribution and trends across different geographic regions and model years."
   ]
  },
  {
   "attachments": {},
   "cell_type": "markdown",
   "id": "24a957fe",
   "metadata": {},
   "source": [
    "## First perspective"
   ]
  },
  {
   "attachments": {},
   "cell_type": "markdown",
   "id": "ed82fc1b",
   "metadata": {},
   "source": [
    "With the increasing concern for environmental sustainability, a global shift towards electric vehicles has been sparked. The advent of electric vehicles, powered by electricity stored in batteries, presents a shift in transportation that has the potential to revolutionize air quality. Unlike the conventional fossile driven vehicles, electriv vehicles (EV's) produce zero tailpipe emissions. The argument can be made that the process of generating the electricity on which EV's run often does produce harmfull gasses, but this happens outside densely populated areas in almost all instances. Therefore EV's should have a positive impact on the air quality in cities, where air quality remains an issue. This argument will be substandiated by looking at new york city, a big and densely populated city with relatively many vehicles."
   ]
  },
  {
   "attachments": {},
   "cell_type": "markdown",
   "id": "fab8c694",
   "metadata": {},
   "source": [
    "#### First argument"
   ]
  },
  {
   "cell_type": "code",
   "execution_count": 2,
   "id": "d5299b2e",
   "metadata": {},
   "outputs": [
    {
     "data": {
      "text/html": [
       "<div>\n",
       "<style scoped>\n",
       "    .dataframe tbody tr th:only-of-type {\n",
       "        vertical-align: middle;\n",
       "    }\n",
       "\n",
       "    .dataframe tbody tr th {\n",
       "        vertical-align: top;\n",
       "    }\n",
       "\n",
       "    .dataframe thead th {\n",
       "        text-align: right;\n",
       "    }\n",
       "</style>\n",
       "<table border=\"1\" class=\"dataframe\">\n",
       "  <thead>\n",
       "    <tr style=\"text-align: right;\">\n",
       "      <th></th>\n",
       "      <th>ZIP Code</th>\n",
       "      <th>Registration Valid Date</th>\n",
       "      <th>DMV ID</th>\n",
       "      <th>Registration</th>\n",
       "      <th>VIN Prefix</th>\n",
       "      <th>Vehicle ID</th>\n",
       "    </tr>\n",
       "  </thead>\n",
       "  <tbody>\n",
       "    <tr>\n",
       "      <th>0</th>\n",
       "      <td>13104</td>\n",
       "      <td>2020-10-01</td>\n",
       "      <td>62</td>\n",
       "      <td>Original</td>\n",
       "      <td>YV4BR0DL7M</td>\n",
       "      <td>18096911</td>\n",
       "    </tr>\n",
       "    <tr>\n",
       "      <th>1</th>\n",
       "      <td>13104</td>\n",
       "      <td>2020-10-01</td>\n",
       "      <td>48</td>\n",
       "      <td>Original</td>\n",
       "      <td>YV4BR0DL7M</td>\n",
       "      <td>18096911</td>\n",
       "    </tr>\n",
       "    <tr>\n",
       "      <th>2</th>\n",
       "      <td>13104</td>\n",
       "      <td>2020-10-01</td>\n",
       "      <td>46</td>\n",
       "      <td>Original</td>\n",
       "      <td>YV4BR0DL7M</td>\n",
       "      <td>18096911</td>\n",
       "    </tr>\n",
       "    <tr>\n",
       "      <th>3</th>\n",
       "      <td>13104</td>\n",
       "      <td>2020-10-01</td>\n",
       "      <td>55</td>\n",
       "      <td>Original</td>\n",
       "      <td>YV4BR0DL7M</td>\n",
       "      <td>18096911</td>\n",
       "    </tr>\n",
       "    <tr>\n",
       "      <th>4</th>\n",
       "      <td>13104</td>\n",
       "      <td>2020-10-01</td>\n",
       "      <td>53</td>\n",
       "      <td>Original</td>\n",
       "      <td>YV4BR0DL7M</td>\n",
       "      <td>18096911</td>\n",
       "    </tr>\n",
       "  </tbody>\n",
       "</table>\n",
       "</div>"
      ],
      "text/plain": [
       "   ZIP Code Registration Valid Date  DMV ID Registration  VIN Prefix  \\\n",
       "0     13104              2020-10-01      62     Original  YV4BR0DL7M   \n",
       "1     13104              2020-10-01      48     Original  YV4BR0DL7M   \n",
       "2     13104              2020-10-01      46     Original  YV4BR0DL7M   \n",
       "3     13104              2020-10-01      55     Original  YV4BR0DL7M   \n",
       "4     13104              2020-10-01      53     Original  YV4BR0DL7M   \n",
       "\n",
       "   Vehicle ID  \n",
       "0    18096911  \n",
       "1    18096911  \n",
       "2    18096911  \n",
       "3    18096911  \n",
       "4    18096911  "
      ]
     },
     "execution_count": 2,
     "metadata": {},
     "output_type": "execute_result"
    }
   ],
   "source": [
    "dftest2 = pd.read_csv(\"ny_ev_registrations.csv\")\n",
    "\n",
    "dftest2['Registration Valid Date'] = pd.to_datetime(dftest2['Registration Valid Date'])\n",
    "\n",
    "dftest2.head()"
   ]
  },
  {
   "attachments": {},
   "cell_type": "markdown",
   "id": "8946ef39",
   "metadata": {},
   "source": [
    "For our first argument, we want to compare the registrations of electric vehicles in New York City over the years to the amount of NO2 and Fine Particualte matter in the air of the city over the years. In the first graph, we plotted the registrations of electric vehicles per month over time. As you can see, the sales of electric cars started back in 2014, but starting in 2016 it got a huge increase in sales that kept increasing until halfway through 2021. In the second graph, we plotted the amount of NO2 and Fine Particualte matter in the air of the city over the years, per county. The coloured area's around the lines are for the different area's of the counties in which the measurement was done which have small differences between them. Changing the county in the graph will be used in the second argument. One thing to note for this graph is that for each county, the scale of the y-axis is different, as some counties are a lot let populated than others, resulting in an already better air quality. As you can see, the quality was already getting better over the years but in some years it still got a bit worse. From approximately 2016 it is visible that the quality only got better, and got better more quickly. For the NO2 the change is not that significant, but for the Fine Particulate Matter, which is one of the main polutions of gasoline cars, the drop is really visible. This shows that the increase in electric cars has caused the air quality to become better."
   ]
  },
  {
   "cell_type": "code",
   "execution_count": 3,
   "id": "b8331f2c",
   "metadata": {},
   "outputs": [
    {
     "data": {
      "image/png": "[encoded data removed]",
      "text/plain": [
       "<Figure size 1200x800 with 1 Axes>"
      ]
     },
     "metadata": {},
     "output_type": "display_data"
    }
   ],
   "source": [
    "#Plot electric vehicles:\n",
    "\n",
    "import pandas as pd\n",
    "import matplotlib.pyplot as plt\n",
    "\n",
    "# Assuming you have a DataFrame named 'df' with a 'Reg Valid Date' column\n",
    "df = dftest2.copy()\n",
    "\n",
    "# Convert the 'Reg Valid Date' column to a datetime data type\n",
    "df['Registration Valid Date'] = pd.to_datetime(df['Registration Valid Date'])\n",
    "\n",
    "# Extract the year and month from the 'Reg Valid Date' column\n",
    "df['Year'] = df['Registration Valid Date'].dt.year\n",
    "df['Month'] = df['Registration Valid Date'].dt.month\n",
    "\n",
    "# Group the data by year and month and count the number of registrations\n",
    "registration_counts = df.groupby(['Year', 'Month']).size().reset_index(name='Count')\n",
    "\n",
    "# Create a new column combining the year and month for labeling purposes\n",
    "registration_counts['YearMonth'] = registration_counts['Year'].astype(str) + '-' + registration_counts['Month'].astype(str)\n",
    "\n",
    "# Filter to keep only the first month of each year\n",
    "first_months = registration_counts[registration_counts['Month'] == 1]\n",
    "\n",
    "# Set the size of the figure\n",
    "plt.figure(figsize=(12, 8))\n",
    "\n",
    "# Plotting the histogram\n",
    "plt.bar(registration_counts['YearMonth'], registration_counts['Count'])\n",
    "\n",
    "# Set the x-axis label to 'Years'\n",
    "plt.xlabel('Years')\n",
    "\n",
    "# Set the y-axis label to 'Number of Registrations'\n",
    "plt.ylabel('Number of Registrations')\n",
    "\n",
    "# Rotate the x-axis labels for better readability\n",
    "plt.xticks(rotation=90)\n",
    "\n",
    "# Set the x-axis tick locations and labels to show only the first month of each year\n",
    "plt.xticks(first_months.index, first_months['Year'])\n",
    "\n",
    "# Add a title to the plot\n",
    "plt.title(\"Registrations of electric vehicles per month in NYC\")\n",
    "\n",
    "# Save the plot as a PNG image\n",
    "#plt.savefig('registrations.png')\n",
    "\n",
    "# Show the plot\n",
    "plt.show()"
   ]
  },
  {
   "cell_type": "code",
   "execution_count": 4,
   "id": "62f15491",
   "metadata": {},
   "outputs": [
    {
     "data": {
      "application/vnd.jupyter.widget-view+json": {
       "model_id": "8d9bf4556a2b46c8a51dc3d0287c53f6",
       "version_major": 2,
       "version_minor": 0
      },
      "text/plain": [
       "interactive(children=(Dropdown(description='county', options=('Manhattan', 'Bronx', 'Brooklyn', 'Queens', 'Sta…"
      ]
     },
     "metadata": {},
     "output_type": "display_data"
    },
    {
     "data": {
      "text/plain": [
       "<function __main__.plot_air_quality(county)>"
      ]
     },
     "execution_count": 4,
     "metadata": {},
     "output_type": "execute_result"
    }
   ],
   "source": [
    "# Get a list of unique counties\n",
    "counties = df2_copy['Geo Place Name'].unique()\n",
    "\n",
    "# Define the colors for each pollution type\n",
    "colors = ['blue', 'green']\n",
    "\n",
    "def plot_air_quality(county):\n",
    "    # Filter the dataframe for the selected county\n",
    "    county_data = df2_copy[df2_copy['Geo Place Name'] == county]\n",
    "    \n",
    "    # Set the figure size\n",
    "    plt.figure(figsize=(24, 12))\n",
    "\n",
    "    # Create an empty list to store legend handles and labels\n",
    "    legend_handles_labels = []\n",
    "\n",
    "    # Iterate over each pollution type\n",
    "    for i, pollution_type in enumerate(county_data['Name'].unique(), start=1):\n",
    "        plt.subplot(1, 2, i)\n",
    "        pollution_data = county_data[county_data['Name'] == pollution_type]\n",
    "        line = sns.lineplot(data=pollution_data, x='Time Period', y='Data Value', color=colors[i-1])\n",
    "        \n",
    "        # Store legend handles and labels\n",
    "        legend_handles_labels.append(mpatches.Patch(color=colors[i-1], label=pollution_type))\n",
    "\n",
    "\n",
    "        plt.title(pollution_type)\n",
    "        plt.xlabel('Year')\n",
    "        plt.ylabel('Pollution Level')\n",
    "        plt.xticks(range(county_data['Time Period'].min(), county_data['Time Period'].max()+1, 2))  # Adjust the x-axis ticks\n",
    "\n",
    "    # Add a legend to the plot\n",
    "    plt.legend(legend_handles_labels, county_data['Name'].unique(), title='Pollution Type', loc='upper left')\n",
    "\n",
    "    # Adjust the spacing between subplots\n",
    "    plt.tight_layout()\n",
    "    \n",
    "    # Save the plot as a PNG image\n",
    "    #plt.savefig('air-quality.png')\n",
    "\n",
    "    # Show the plot\n",
    "    plt.show()\n",
    "\n",
    "# Interactive county selection\n",
    "interact(plot_air_quality, county=counties)"
   ]
  },
  {
   "attachments": {},
   "cell_type": "markdown",
   "id": "b7943da2",
   "metadata": {},
   "source": [
    "For the second argument, we will compare the locations of the EV charging stations to the air quality over time in New York City. In the graph above, we can visualise the amount of NO2 and FPM in the air over time per county. In the graph under this cell, we made a scatterplot of the map of NYC where each datapoint represents a charging station, coloured according to the county it belongs to. We will look at how much the air quality has changed per county compared to the amount of charging stations in that county. As electric vehicles became popular in 2016, we will only look at the data from that time. We will look at the counties in the order of the amount of charging stations it has, in descending order. When you look at the air quality of Manhattan you can see that the parts per million (ppm) of NO2 has dropped by more than 4ppm, and the mcg per cubic meter (mcg/m^3) of FPM has dropped by 2. In Brooklyn, the NO2 dropped by approximately 3.5 ppm and the FPM dropped by 2 mcg/m^3. In the bronx, the NO2 has decreased, but also has seen some increases over the years, only dropping about 2 ppm. The FPM dropped by slightly less than 2 mcg/m^3. In Queens, the NO2 decreased by around 3 ppm, and the FPM by only 1 mcg/m^3. Finally in Staten Island, the NO2 has dropped by 2 ppm and the FPM by around 1.5 mcg/m^3. \n",
    "\n",
    "Manhattan and Brooklyn have significantly more charging stations than the other counties, as is clearly visible in the map below. This is also visible in the increase of air quality in these counties, especially when you look at the decrease of NO2 in the air. Brooklyn and Manhattan are the only counties where the ppm of NO2 decreased with more than 3.5. Charging stations are one of the main places to find electric cars, thus more charging stations meaning more electric cars in your county. With this we have shown another reason for why an increase in electric cars has caused the air quality in NYC to become better, making it a more liveable place."
   ]
  },
  {
   "cell_type": "code",
   "execution_count": 5,
   "id": "25b2d51f",
   "metadata": {},
   "outputs": [
    {
     "data": {
      "application/vnd.plotly.v1+json": {
       "config": {
        "plotlyServerURL": "https://plot.ly"
       },
       "data": [
        {
         "hovertemplate": "City=Queens<br>Latitude=%{lat}<br>Longitude=%{lon}<extra></extra>",
         "lat": [
          40.735082,
          40.745853,
          40.760424,
          40.714376,
          40.735874,
          40.754524,
          40.645659,
          40.754556,
          40.701647,
          40.714376,
          40.589814,
          40.744362,
          40.645916,
          40.765233,
          43.327226,
          40.645758,
          40.66179,
          40.761212,
          40.645841,
          40.65608
         ],
         "legendgroup": "Queens",
         "lon": [
          -73.87067,
          -73.884134,
          -73.856316,
          -73.826095,
          -73.815819,
          -73.919079,
          -73.779481,
          -73.919119,
          -73.803843,
          -73.826095,
          -73.79995,
          -73.93112,
          -73.779152,
          -73.918436,
          -73.666643,
          -73.779314,
          -73.79282,
          -73.857765,
          -73.779222,
          -73.80809
         ],
         "marker": {
          "color": "rgb(228,26,28)"
         },
         "mode": "markers",
         "name": "Queens",
         "showlegend": true,
         "subplot": "mapbox",
         "type": "scattermapbox"
        },
        {
         "hovertemplate": "City=Brooklyn<br>Latitude=%{lat}<br>Longitude=%{lon}<extra></extra>",
         "lat": [
          40.57863,
          40.668517,
          40.6918,
          40.678155,
          40.65601,
          40.654476,
          40.709168,
          40.677526,
          40.68608,
          40.659338,
          40.684979,
          40.695154,
          40.67283,
          40.656766,
          40.69306,
          40.722137,
          40.657441,
          40.619335,
          40.699334,
          40.668552,
          40.713604,
          40.659333,
          40.59164,
          40.621698,
          40.656148,
          40.693248,
          40.692635,
          40.65678,
          40.688086,
          40.702882,
          40.61777,
          40.693999,
          40.705481,
          40.683126,
          40.656102,
          40.718509,
          40.681953,
          40.692579,
          40.696848,
          40.724591,
          40.673235,
          40.714318,
          40.68092,
          40.61095,
          40.672884,
          40.691073,
          40.589167,
          40.698671,
          40.690987,
          40.699256,
          40.66852,
          40.656459,
          40.577592,
          40.715033,
          40.695115,
          40.715954,
          40.736562,
          40.718391,
          40.680168,
          40.680484,
          40.698707,
          40.687913,
          40.720708,
          40.654381,
          40.721853,
          40.702194,
          40.677412,
          40.674612,
          40.693476,
          40.683287,
          40.692062,
          40.716441,
          40.694841,
          40.72054,
          40.693463,
          40.669936,
          40.711729,
          40.719338,
          40.719425,
          40.675159,
          40.699488,
          40.689016,
          40.615179,
          40.628872,
          40.719751,
          40.700039,
          40.66696,
          40.691469,
          40.649116,
          40.686983,
          40.718054,
          40.71949,
          40.67984,
          40.693122,
          40.683715,
          40.692941,
          40.689457,
          40.674312,
          40.667017,
          40.701461,
          40.681151,
          40.681263
         ],
         "legendgroup": "Brooklyn",
         "lon": [
          -73.975218,
          -73.983283,
          -73.99829,
          -73.990442,
          -73.940902,
          -73.946741,
          -73.968491,
          -73.965785,
          -73.978252,
          -74.006454,
          -73.967922,
          -73.983861,
          -73.97175,
          -74.004802,
          -73.987222,
          -73.956583,
          -73.874619,
          -74.029466,
          -73.949665,
          -73.97869,
          -73.933099,
          -74.006419,
          -73.93749,
          -74.02567,
          -73.940355,
          -73.981744,
          -73.969935,
          -73.977759,
          -73.979234,
          -73.990594,
          -74.02713,
          -73.983809,
          -73.972208,
          -73.982088,
          -73.940436,
          -73.964821,
          -73.964405,
          -73.985252,
          -73.983071,
          -73.954512,
          -73.986232,
          -73.953186,
          -73.97076,
          -73.968547,
          -73.971541,
          -73.990197,
          -73.960707,
          -73.959625,
          -73.99013,
          -73.969305,
          -73.990489,
          -73.977527,
          -73.969165,
          -73.958595,
          -73.990993,
          -73.954681,
          -73.959195,
          -73.963339,
          -73.946022,
          -73.996719,
          -73.992365,
          -73.983039,
          -73.96231,
          -73.913436,
          -73.956658,
          -73.98672,
          -73.990986,
          -73.944569,
          -73.982605,
          -73.973589,
          -73.99816,
          -73.960043,
          -73.982849,
          -73.962249,
          -73.988245,
          -73.963069,
          -73.967698,
          -73.963081,
          -73.963964,
          -73.958501,
          -73.989516,
          -73.988672,
          -74.031984,
          -73.971992,
          -73.954866,
          -73.941261,
          -73.975032,
          -73.985446,
          -74.006479,
          -73.980498,
          -73.951847,
          -73.963312,
          -73.9313,
          -73.985696,
          -73.974337,
          -74.000298,
          -73.978606,
          -73.98488,
          -73.988698,
          -73.995566,
          -73.982101,
          -73.981155
         ],
         "marker": {
          "color": "rgb(55,126,184)"
         },
         "mode": "markers",
         "name": "Brooklyn",
         "showlegend": true,
         "subplot": "mapbox",
         "type": "scattermapbox"
        },
        {
         "hovertemplate": "City=New York<br>Latitude=%{lat}<br>Longitude=%{lon}<extra></extra>",
         "lat": [
          40.764464,
          40.736148,
          40.79237,
          40.769947,
          40.802151,
          40.785296,
          40.764655,
          40.753049,
          40.759127,
          40.772871,
          40.762234,
          40.755363,
          40.770292,
          40.764935,
          40.777905,
          40.731379,
          42.864619,
          40.780027,
          40.783536,
          40.705922,
          40.719319,
          40.750676,
          40.734939,
          40.772742,
          40.716966,
          40.764423,
          40.773225,
          40.780398,
          40.764552,
          40.784865,
          40.741421,
          40.751302,
          40.706965,
          40.728704,
          40.7758,
          40.79766,
          40.74793,
          40.773256,
          40.74282,
          40.770709,
          40.744916,
          40.738371,
          40.795783,
          40.755627,
          40.77108,
          42.848887,
          40.772,
          40.758586,
          40.776574,
          40.719772,
          40.77082,
          40.77798,
          40.774878,
          40.761397,
          40.742059,
          40.76332,
          40.776152,
          40.76476,
          40.743832,
          40.763244,
          40.767743,
          40.772904,
          40.76139,
          40.74709,
          40.768058,
          40.73491,
          40.798108,
          40.747437,
          40.769061,
          40.753079,
          40.762678,
          40.74508,
          40.78126,
          40.780976,
          40.756722,
          40.744467,
          40.784831,
          40.764945,
          40.791267,
          40.789958,
          40.771794,
          40.77735,
          40.773472,
          40.729234,
          40.756766,
          40.779211,
          40.704514,
          40.727797,
          40.764261,
          40.719825,
          40.771879,
          40.746304,
          40.79136,
          40.78567,
          40.768283,
          40.758519,
          40.770752,
          40.76709,
          40.75277,
          40.816777,
          40.750666,
          40.773005,
          40.74556,
          40.775968,
          40.75527,
          40.7733,
          40.749296,
          40.737537,
          40.783085,
          40.745603,
          40.771555,
          40.760648,
          40.737108,
          40.7163,
          40.78411,
          40.730487,
          40.730017,
          40.717522,
          40.716256,
          40.747299,
          40.771918,
          40.78098,
          40.746851,
          40.79743,
          40.803963,
          40.782212,
          40.7702,
          40.728287,
          40.710019,
          40.705115,
          40.755142,
          40.748359,
          40.741065,
          40.704776,
          40.716268,
          40.75516,
          40.735736,
          40.746022,
          40.782091,
          40.74538,
          40.715071,
          40.768066,
          40.723617,
          40.74979,
          40.740458,
          40.770772,
          40.75552,
          40.760098,
          40.750844,
          40.77729,
          40.74057,
          40.776461,
          40.771626,
          40.750013,
          40.763723,
          40.743971,
          40.76894,
          40.755314,
          40.762307,
          40.764748,
          40.772681,
          40.774511,
          42.864644,
          40.743405,
          40.754709,
          40.766495,
          40.729364,
          40.760289,
          40.78147,
          40.731257,
          40.717195,
          40.77592,
          40.773415,
          40.721437,
          40.778412,
          40.758967,
          40.70663,
          40.797359,
          40.794519,
          40.772712,
          40.737891,
          40.732519,
          40.730723,
          40.76154,
          40.714113,
          40.754022,
          40.768144,
          40.775374,
          40.771382,
          40.745432,
          40.778221,
          40.775065,
          40.781547,
          40.766554,
          40.782031,
          40.839756,
          40.762189,
          40.781413,
          40.710786,
          40.717717,
          40.779687,
          40.752205,
          40.756518,
          40.749073,
          40.75267,
          40.728283,
          40.76939,
          40.758681,
          40.742821,
          40.755108,
          40.779338,
          40.738733,
          40.741515,
          40.735706,
          40.739253,
          40.757146,
          40.788614,
          40.767879,
          40.749255,
          40.811187,
          40.7624,
          40.766719,
          40.717686,
          40.779876,
          40.71695,
          40.77331,
          40.714463,
          40.792194,
          40.751847,
          40.766971,
          40.755856,
          40.772952,
          40.765844,
          40.736973,
          40.78859,
          40.757223,
          40.775123,
          40.767615,
          40.770601,
          40.769134,
          40.762411,
          40.777737,
          40.76696,
          40.721713,
          40.707738,
          40.752641,
          40.77447,
          40.7708,
          40.714266,
          40.767342,
          40.775792,
          40.737533,
          40.716079,
          40.737122,
          40.708165,
          40.7297,
          40.755289,
          40.742735,
          40.793877,
          40.811446,
          40.776813,
          40.775203,
          40.76351,
          40.775283,
          40.764259,
          40.77438,
          40.742407,
          40.736161,
          40.759223,
          40.797743,
          40.734412,
          40.755024,
          40.716131,
          40.77397,
          40.774207,
          40.762254,
          40.7923,
          40.761622,
          40.800793,
          40.775474,
          40.745096,
          40.762568,
          40.731887,
          40.766545,
          40.711145,
          40.807356,
          40.77373,
          40.751867,
          40.781104,
          40.747962,
          40.776006,
          40.78131,
          40.763488,
          40.766708,
          40.740939,
          40.735597,
          40.764208,
          40.75519,
          40.736217,
          40.764609,
          40.773004,
          40.584984,
          40.761698,
          40.80443,
          40.735608,
          40.788008,
          40.793416,
          40.76306,
          40.740243,
          40.780678,
          40.721658,
          40.772574,
          40.7529,
          40.76327,
          40.760462,
          40.78351,
          40.737171,
          40.72808,
          40.745842,
          40.764429,
          40.744011,
          40.80155,
          40.715645,
          40.77292,
          40.76942,
          40.736293,
          40.716133,
          40.714821,
          40.762855,
          40.741554,
          40.763279,
          40.761018,
          40.764617,
          40.765108,
          40.797771,
          40.744244,
          40.787402,
          40.748757,
          40.74415,
          40.734006,
          40.732085,
          40.795624,
          40.761589,
          40.793158,
          40.755077,
          40.716132,
          40.746847,
          40.717153,
          40.707679,
          40.759437,
          40.77364,
          40.772896,
          40.753356,
          40.721801,
          40.75657,
          40.719869,
          40.803934,
          40.757839,
          40.766736,
          40.768432,
          40.717143,
          40.768211,
          40.747478,
          40.848202,
          40.746565,
          40.786099,
          40.77049,
          40.710179
         ],
         "legendgroup": "New York",
         "lon": [
          -73.946924,
          -73.980154,
          -73.924644,
          -73.956989,
          -73.961705,
          -73.947487,
          -73.9761,
          -74.003333,
          -73.964684,
          -73.992514,
          -73.979036,
          -73.963841,
          -73.967735,
          -73.96063,
          -73.982299,
          -74.000704,
          -73.770335,
          -73.982823,
          -73.949507,
          -74.010175,
          -73.988197,
          -73.979298,
          -73.989409,
          -73.979503,
          -73.996707,
          -73.968865,
          -73.952643,
          -73.977729,
          -73.962034,
          -73.948526,
          -74.003186,
          -74.007096,
          -74.017971,
          -74.00765,
          -73.95087,
          -73.96838,
          -73.974556,
          -73.959334,
          -73.97438,
          -73.991725,
          -73.980228,
          -73.99688,
          -73.973678,
          -73.961468,
          -73.993142,
          -76.980257,
          -73.94639,
          -73.991341,
          -73.96047,
          -74.010475,
          -73.96068,
          -73.95555,
          -73.960671,
          -73.974612,
          -73.992694,
          -73.962938,
          -73.98282,
          -73.976153,
          -74.006578,
          -73.988647,
          -73.963665,
          -73.992514,
          -73.968269,
          -73.98667,
          -73.992735,
          -74.001634,
          -73.968204,
          -74.007111,
          -73.96876,
          -73.968032,
          -73.965447,
          -73.97604,
          -73.98044,
          -73.980414,
          -73.97406,
          -73.990662,
          -73.982085,
          -73.960624,
          -73.952039,
          -73.966488,
          -73.955624,
          -73.958352,
          -73.955287,
          -73.999013,
          -73.967481,
          -73.960949,
          -74.01074,
          -73.990746,
          -73.982974,
          -74.010137,
          -73.951627,
          -73.995064,
          -73.952155,
          -73.954593,
          -73.961149,
          -73.961272,
          -73.866327,
          -73.98733,
          -74.00265,
          -73.947435,
          -73.979263,
          -73.992868,
          -73.985539,
          -73.947846,
          -73.96386,
          -73.991532,
          -74.006017,
          -74.00983,
          -73.956304,
          -73.98185,
          -73.986428,
          -73.974193,
          -74.000358,
          -74.01258,
          -73.980641,
          -73.993569,
          -73.985512,
          -73.997302,
          -74.012543,
          -73.981039,
          -73.951679,
          -73.951145,
          -73.972901,
          -73.9687,
          -73.966032,
          -73.95023,
          -73.95525,
          -73.992746,
          -74.004385,
          -74.008089,
          -73.9556,
          -73.972213,
          -73.975788,
          -74.008276,
          -74.009491,
          -73.955605,
          -73.988745,
          -73.978693,
          -73.946029,
          -73.98571,
          -74.012203,
          -73.992778,
          -74.010915,
          -74.005335,
          -73.989037,
          -73.981795,
          -73.962734,
          -73.988828,
          -73.986188,
          -73.94355,
          -73.99147,
          -73.944363,
          -73.981032,
          -73.978525,
          -73.956354,
          -73.971882,
          -73.96047,
          -73.955605,
          -73.996615,
          -73.982676,
          -73.945488,
          -73.952039,
          -73.770347,
          -73.974735,
          -73.973391,
          -73.9667,
          -74.008513,
          -73.959501,
          -73.95986,
          -73.992101,
          -73.991658,
          -73.98313,
          -73.959234,
          -74.001238,
          -73.988294,
          -73.995189,
          -74.016916,
          -73.968718,
          -73.963445,
          -73.947045,
          -73.994058,
          -73.995135,
          -73.990854,
          -73.98518,
          -74.01581,
          -73.965166,
          -73.966736,
          -73.989687,
          -73.948344,
          -73.97956,
          -73.985072,
          -73.988572,
          -73.980475,
          -73.952905,
          -73.959484,
          -73.943345,
          -73.999714,
          -73.946377,
          -74.006017,
          -74.015049,
          -73.952595,
          -74.001493,
          -73.961074,
          -73.990032,
          -73.96482,
          -73.997251,
          -73.96546,
          -73.98135,
          -73.980913,
          -73.955605,
          -73.987493,
          -74.006009,
          -74.004608,
          -73.995058,
          -73.982329,
          -73.966135,
          -73.97118,
          -73.983656,
          -74.005914,
          -73.963571,
          -73.99635,
          -73.979533,
          -74.010613,
          -73.958579,
          -74.014948,
          -73.952621,
          -74.01098,
          -73.92455,
          -73.971348,
          -73.987441,
          -73.984313,
          -73.992622,
          -73.982481,
          -73.99787,
          -73.97118,
          -73.963011,
          -73.951193,
          -73.961509,
          -73.960531,
          -73.968707,
          -73.984495,
          -73.957413,
          -73.983569,
          -73.987533,
          -74.016845,
          -73.965187,
          -73.94599,
          -73.98323,
          -74.009921,
          -73.960835,
          -73.944015,
          -73.980437,
          -74.015929,
          -73.996119,
          -74.016641,
          -73.991565,
          -73.963804,
          -73.974296,
          -73.967498,
          -73.960477,
          -73.977083,
          -73.950295,
          -73.979364,
          -73.981627,
          -73.974972,
          -73.963157,
          -73.999351,
          -73.980267,
          -73.992703,
          -73.960441,
          -74.007184,
          -73.955605,
          -74.015548,
          -73.9539,
          -73.96282,
          -73.970024,
          -73.92468,
          -73.975465,
          -73.9371,
          -73.989763,
          -73.971921,
          -73.982718,
          -73.991906,
          -73.95292,
          -74.016332,
          -73.954354,
          -73.989713,
          -73.972873,
          -73.984478,
          -73.976569,
          -73.961627,
          -73.980834,
          -73.961323,
          -73.955483,
          -74.00824,
          -74.007693,
          -73.947198,
          -73.974142,
          -73.986665,
          -73.979517,
          -73.966152,
          -74.088044,
          -73.978338,
          -73.961373,
          -73.983111,
          -73.971611,
          -73.967719,
          -73.968409,
          -73.997591,
          -73.956269,
          -74.004402,
          -73.981951,
          -73.967723,
          -73.96024,
          -73.964086,
          -73.94888,
          -73.994331,
          -73.99724,
          -73.990103,
          -73.946793,
          -73.974115,
          -73.948499,
          -73.98081,
          -73.992546,
          -73.76942,
          -73.991939,
          -74.01556,
          -73.987138,
          -73.977795,
          -73.995403,
          -73.98086,
          -73.99878,
          -73.969764,
          -73.963389,
          -73.96142,
          -73.984116,
          -73.950546,
          -73.943417,
          -73.98046,
          -74.009079,
          -73.995829,
          -73.971961,
          -73.975211,
          -73.970319,
          -73.955605,
          -74.015557,
          -74.001816,
          -73.991869,
          -74.004687,
          -73.96767,
          -73.963722,
          -73.992536,
          -73.971685,
          -74.004237,
          -73.96226,
          -74.007447,
          -73.966049,
          -73.984391,
          -73.951891,
          -73.984033,
          -73.991597,
          -73.989479,
          -73.98504,
          -73.935857,
          -73.971591,
          -73.977303,
          -73.96077,
          -74.013169
         ],
         "marker": {
          "color": "rgb(77,175,74)"
         },
         "mode": "markers",
         "name": "New York",
         "showlegend": true,
         "subplot": "mapbox",
         "type": "scattermapbox"
        },
        {
         "hovertemplate": "City=Staten Island<br>Latitude=%{lat}<br>Longitude=%{lon}<extra></extra>",
         "lat": [
          40.513465,
          40.604213,
          40.612671,
          40.639469,
          40.604086,
          40.594646,
          40.581128,
          40.604154,
          40.629216,
          40.612696,
          40.612706,
          40.644065,
          40.604082,
          40.604324,
          40.569064,
          40.604322,
          40.583139,
          40.60429,
          40.582698,
          40.612678,
          40.603961,
          40.587162,
          40.581432,
          40.588091,
          40.584709,
          40.644065,
          40.581734,
          40.60401,
          40.604252,
          40.612688,
          40.516758
         ],
         "legendgroup": "Staten Island",
         "lon": [
          -74.251418,
          -74.179561,
          -74.17882,
          -74.076912,
          -74.179358,
          -74.082769,
          -74.167922,
          -74.179546,
          -74.111537,
          -74.179012,
          -74.179076,
          -74.075153,
          -74.179499,
          -74.179675,
          -74.109548,
          -74.179683,
          -74.166332,
          -74.17979,
          -74.167876,
          -74.178885,
          -74.179472,
          -74.194747,
          -74.097694,
          -74.089936,
          -74.086124,
          -74.075153,
          -74.168434,
          -74.179524,
          -74.179682,
          -74.178948,
          -74.196379
         ],
         "marker": {
          "color": "rgb(152,78,163)"
         },
         "mode": "markers",
         "name": "Staten Island",
         "showlegend": true,
         "subplot": "mapbox",
         "type": "scattermapbox"
        },
        {
         "hovertemplate": "City=Bronx<br>Latitude=%{lat}<br>Longitude=%{lon}<extra></extra>",
         "lat": [
          40.851182,
          40.876952,
          40.879413,
          40.812459,
          40.888461,
          40.86334,
          40.869205,
          40.905461,
          40.863231,
          40.880142,
          40.878532,
          40.822142,
          40.875421,
          40.882786,
          40.882337,
          40.879501
         ],
         "legendgroup": "Bronx",
         "lon": [
          -73.881088,
          -73.845534,
          -73.875485,
          -73.83447,
          -73.899119,
          -73.900066,
          -73.831633,
          -73.849791,
          -73.828839,
          -73.907385,
          -73.916201,
          -73.931128,
          -73.893941,
          -73.841986,
          -73.880265,
          -73.903603
         ],
         "marker": {
          "color": "rgb(255,127,0)"
         },
         "mode": "markers",
         "name": "Bronx",
         "showlegend": true,
         "subplot": "mapbox",
         "type": "scattermapbox"
        }
       ],
       "layout": {
        "legend": {
         "title": {
          "text": "City"
         },
         "tracegroupgap": 0
        },
        "mapbox": {
         "center": {
          "lat": 40.75191476163874,
          "lon": -73.98326780819367
         },
         "domain": {
          "x": [
           0,
           1
          ],
          "y": [
           0,
           1
          ]
         },
         "style": "carto-positron",
         "zoom": 8
        },
        "margin": {
         "t": 60
        },
        "template": {
         "data": {
          "bar": [
           {
            "error_x": {
             "color": "#2a3f5f"
            },
            "error_y": {
             "color": "#2a3f5f"
            },
            "marker": {
             "line": {
              "color": "#E5ECF6",
              "width": 0.5
             },
             "pattern": {
              "fillmode": "overlay",
              "size": 10,
              "solidity": 0.2
             }
            },
            "type": "bar"
           }
          ],
          "barpolar": [
           {
            "marker": {
             "line": {
              "color": "#E5ECF6",
              "width": 0.5
             },
             "pattern": {
              "fillmode": "overlay",
              "size": 10,
              "solidity": 0.2
             }
            },
            "type": "barpolar"
           }
          ],
          "carpet": [
           {
            "aaxis": {
             "endlinecolor": "#2a3f5f",
             "gridcolor": "white",
             "linecolor": "white",
             "minorgridcolor": "white",
             "startlinecolor": "#2a3f5f"
            },
            "baxis": {
             "endlinecolor": "#2a3f5f",
             "gridcolor": "white",
             "linecolor": "white",
             "minorgridcolor": "white",
             "startlinecolor": "#2a3f5f"
            },
            "type": "carpet"
           }
          ],
          "choropleth": [
           {
            "colorbar": {
             "outlinewidth": 0,
             "ticks": ""
            },
            "type": "choropleth"
           }
          ],
          "contour": [
           {
            "colorbar": {
             "outlinewidth": 0,
             "ticks": ""
            },
            "colorscale": [
             [
              0,
              "#0d0887"
             ],
             [
              0.1111111111111111,
              "#46039f"
             ],
             [
              0.2222222222222222,
              "#7201a8"
             ],
             [
              0.3333333333333333,
              "#9c179e"
             ],
             [
              0.4444444444444444,
              "#bd3786"
             ],
             [
              0.5555555555555556,
              "#d8576b"
             ],
             [
              0.6666666666666666,
              "#ed7953"
             ],
             [
              0.7777777777777778,
              "#fb9f3a"
             ],
             [
              0.8888888888888888,
              "#fdca26"
             ],
             [
              1,
              "#f0f921"
             ]
            ],
            "type": "contour"
           }
          ],
          "contourcarpet": [
           {
            "colorbar": {
             "outlinewidth": 0,
             "ticks": ""
            },
            "type": "contourcarpet"
           }
          ],
          "heatmap": [
           {
            "colorbar": {
             "outlinewidth": 0,
             "ticks": ""
            },
            "colorscale": [
             [
              0,
              "#0d0887"
             ],
             [
              0.1111111111111111,
              "#46039f"
             ],
             [
              0.2222222222222222,
              "#7201a8"
             ],
             [
              0.3333333333333333,
              "#9c179e"
             ],
             [
              0.4444444444444444,
              "#bd3786"
             ],
             [
              0.5555555555555556,
              "#d8576b"
             ],
             [
              0.6666666666666666,
              "#ed7953"
             ],
             [
              0.7777777777777778,
              "#fb9f3a"
             ],
             [
              0.8888888888888888,
              "#fdca26"
             ],
             [
              1,
              "#f0f921"
             ]
            ],
            "type": "heatmap"
           }
          ],
          "heatmapgl": [
           {
            "colorbar": {
             "outlinewidth": 0,
             "ticks": ""
            },
            "colorscale": [
             [
              0,
              "#0d0887"
             ],
             [
              0.1111111111111111,
              "#46039f"
             ],
             [
              0.2222222222222222,
              "#7201a8"
             ],
             [
              0.3333333333333333,
              "#9c179e"
             ],
             [
              0.4444444444444444,
              "#bd3786"
             ],
             [
              0.5555555555555556,
              "#d8576b"
             ],
             [
              0.6666666666666666,
              "#ed7953"
             ],
             [
              0.7777777777777778,
              "#fb9f3a"
             ],
             [
              0.8888888888888888,
              "#fdca26"
             ],
             [
              1,
              "#f0f921"
             ]
            ],
            "type": "heatmapgl"
           }
          ],
          "histogram": [
           {
            "marker": {
             "pattern": {
              "fillmode": "overlay",
              "size": 10,
              "solidity": 0.2
             }
            },
            "type": "histogram"
           }
          ],
          "histogram2d": [
           {
            "colorbar": {
             "outlinewidth": 0,
             "ticks": ""
            },
            "colorscale": [
             [
              0,
              "#0d0887"
             ],
             [
              0.1111111111111111,
              "#46039f"
             ],
             [
              0.2222222222222222,
              "#7201a8"
             ],
             [
              0.3333333333333333,
              "#9c179e"
             ],
             [
              0.4444444444444444,
              "#bd3786"
             ],
             [
              0.5555555555555556,
              "#d8576b"
             ],
             [
              0.6666666666666666,
              "#ed7953"
             ],
             [
              0.7777777777777778,
              "#fb9f3a"
             ],
             [
              0.8888888888888888,
              "#fdca26"
             ],
             [
              1,
              "#f0f921"
             ]
            ],
            "type": "histogram2d"
           }
          ],
          "histogram2dcontour": [
           {
            "colorbar": {
             "outlinewidth": 0,
             "ticks": ""
            },
            "colorscale": [
             [
              0,
              "#0d0887"
             ],
             [
              0.1111111111111111,
              "#46039f"
             ],
             [
              0.2222222222222222,
              "#7201a8"
             ],
             [
              0.3333333333333333,
              "#9c179e"
             ],
             [
              0.4444444444444444,
              "#bd3786"
             ],
             [
              0.5555555555555556,
              "#d8576b"
             ],
             [
              0.6666666666666666,
              "#ed7953"
             ],
             [
              0.7777777777777778,
              "#fb9f3a"
             ],
             [
              0.8888888888888888,
              "#fdca26"
             ],
             [
              1,
              "#f0f921"
             ]
            ],
            "type": "histogram2dcontour"
           }
          ],
          "mesh3d": [
           {
            "colorbar": {
             "outlinewidth": 0,
             "ticks": ""
            },
            "type": "mesh3d"
           }
          ],
          "parcoords": [
           {
            "line": {
             "colorbar": {
              "outlinewidth": 0,
              "ticks": ""
             }
            },
            "type": "parcoords"
           }
          ],
          "pie": [
           {
            "automargin": true,
            "type": "pie"
           }
          ],
          "scatter": [
           {
            "fillpattern": {
             "fillmode": "overlay",
             "size": 10,
             "solidity": 0.2
            },
            "type": "scatter"
           }
          ],
          "scatter3d": [
           {
            "line": {
             "colorbar": {
              "outlinewidth": 0,
              "ticks": ""
             }
            },
            "marker": {
             "colorbar": {
              "outlinewidth": 0,
              "ticks": ""
             }
            },
            "type": "scatter3d"
           }
          ],
          "scattercarpet": [
           {
            "marker": {
             "colorbar": {
              "outlinewidth": 0,
              "ticks": ""
             }
            },
            "type": "scattercarpet"
           }
          ],
          "scattergeo": [
           {
            "marker": {
             "colorbar": {
              "outlinewidth": 0,
              "ticks": ""
             }
            },
            "type": "scattergeo"
           }
          ],
          "scattergl": [
           {
            "marker": {
             "colorbar": {
              "outlinewidth": 0,
              "ticks": ""
             }
            },
            "type": "scattergl"
           }
          ],
          "scattermapbox": [
           {
            "marker": {
             "colorbar": {
              "outlinewidth": 0,
              "ticks": ""
             }
            },
            "type": "scattermapbox"
           }
          ],
          "scatterpolar": [
           {
            "marker": {
             "colorbar": {
              "outlinewidth": 0,
              "ticks": ""
             }
            },
            "type": "scatterpolar"
           }
          ],
          "scatterpolargl": [
           {
            "marker": {
             "colorbar": {
              "outlinewidth": 0,
              "ticks": ""
             }
            },
            "type": "scatterpolargl"
           }
          ],
          "scatterternary": [
           {
            "marker": {
             "colorbar": {
              "outlinewidth": 0,
              "ticks": ""
             }
            },
            "type": "scatterternary"
           }
          ],
          "surface": [
           {
            "colorbar": {
             "outlinewidth": 0,
             "ticks": ""
            },
            "colorscale": [
             [
              0,
              "#0d0887"
             ],
             [
              0.1111111111111111,
              "#46039f"
             ],
             [
              0.2222222222222222,
              "#7201a8"
             ],
             [
              0.3333333333333333,
              "#9c179e"
             ],
             [
              0.4444444444444444,
              "#bd3786"
             ],
             [
              0.5555555555555556,
              "#d8576b"
             ],
             [
              0.6666666666666666,
              "#ed7953"
             ],
             [
              0.7777777777777778,
              "#fb9f3a"
             ],
             [
              0.8888888888888888,
              "#fdca26"
             ],
             [
              1,
              "#f0f921"
             ]
            ],
            "type": "surface"
           }
          ],
          "table": [
           {
            "cells": {
             "fill": {
              "color": "#EBF0F8"
             },
             "line": {
              "color": "white"
             }
            },
            "header": {
             "fill": {
              "color": "#C8D4E3"
             },
             "line": {
              "color": "white"
             }
            },
            "type": "table"
           }
          ]
         },
         "layout": {
          "annotationdefaults": {
           "arrowcolor": "#2a3f5f",
           "arrowhead": 0,
           "arrowwidth": 1
          },
          "autotypenumbers": "strict",
          "coloraxis": {
           "colorbar": {
            "outlinewidth": 0,
            "ticks": ""
           }
          },
          "colorscale": {
           "diverging": [
            [
             0,
             "#8e0152"
            ],
            [
             0.1,
             "#c51b7d"
            ],
            [
             0.2,
             "#de77ae"
            ],
            [
             0.3,
             "#f1b6da"
            ],
            [
             0.4,
             "#fde0ef"
            ],
            [
             0.5,
             "#f7f7f7"
            ],
            [
             0.6,
             "#e6f5d0"
            ],
            [
             0.7,
             "#b8e186"
            ],
            [
             0.8,
             "#7fbc41"
            ],
            [
             0.9,
             "#4d9221"
            ],
            [
             1,
             "#276419"
            ]
           ],
           "sequential": [
            [
             0,
             "#0d0887"
            ],
            [
             0.1111111111111111,
             "#46039f"
            ],
            [
             0.2222222222222222,
             "#7201a8"
            ],
            [
             0.3333333333333333,
             "#9c179e"
            ],
            [
             0.4444444444444444,
             "#bd3786"
            ],
            [
             0.5555555555555556,
             "#d8576b"
            ],
            [
             0.6666666666666666,
             "#ed7953"
            ],
            [
             0.7777777777777778,
             "#fb9f3a"
            ],
            [
             0.8888888888888888,
             "#fdca26"
            ],
            [
             1,
             "#f0f921"
            ]
           ],
           "sequentialminus": [
            [
             0,
             "#0d0887"
            ],
            [
             0.1111111111111111,
             "#46039f"
            ],
            [
             0.2222222222222222,
             "#7201a8"
            ],
            [
             0.3333333333333333,
             "#9c179e"
            ],
            [
             0.4444444444444444,
             "#bd3786"
            ],
            [
             0.5555555555555556,
             "#d8576b"
            ],
            [
             0.6666666666666666,
             "#ed7953"
            ],
            [
             0.7777777777777778,
             "#fb9f3a"
            ],
            [
             0.8888888888888888,
             "#fdca26"
            ],
            [
             1,
             "#f0f921"
            ]
           ]
          },
          "colorway": [
           "#636efa",
           "#EF553B",
           "#00cc96",
           "#ab63fa",
           "#FFA15A",
           "#19d3f3",
           "#FF6692",
           "#B6E880",
           "#FF97FF",
           "#FECB52"
          ],
          "font": {
           "color": "#2a3f5f"
          },
          "geo": {
           "bgcolor": "white",
           "lakecolor": "white",
           "landcolor": "#E5ECF6",
           "showlakes": true,
           "showland": true,
           "subunitcolor": "white"
          },
          "hoverlabel": {
           "align": "left"
          },
          "hovermode": "closest",
          "mapbox": {
           "style": "light"
          },
          "paper_bgcolor": "white",
          "plot_bgcolor": "#E5ECF6",
          "polar": {
           "angularaxis": {
            "gridcolor": "white",
            "linecolor": "white",
            "ticks": ""
           },
           "bgcolor": "#E5ECF6",
           "radialaxis": {
            "gridcolor": "white",
            "linecolor": "white",
            "ticks": ""
           }
          },
          "scene": {
           "xaxis": {
            "backgroundcolor": "#E5ECF6",
            "gridcolor": "white",
            "gridwidth": 2,
            "linecolor": "white",
            "showbackground": true,
            "ticks": "",
            "zerolinecolor": "white"
           },
           "yaxis": {
            "backgroundcolor": "#E5ECF6",
            "gridcolor": "white",
            "gridwidth": 2,
            "linecolor": "white",
            "showbackground": true,
            "ticks": "",
            "zerolinecolor": "white"
           },
           "zaxis": {
            "backgroundcolor": "#E5ECF6",
            "gridcolor": "white",
            "gridwidth": 2,
            "linecolor": "white",
            "showbackground": true,
            "ticks": "",
            "zerolinecolor": "white"
           }
          },
          "shapedefaults": {
           "line": {
            "color": "#2a3f5f"
           }
          },
          "ternary": {
           "aaxis": {
            "gridcolor": "white",
            "linecolor": "white",
            "ticks": ""
           },
           "baxis": {
            "gridcolor": "white",
            "linecolor": "white",
            "ticks": ""
           },
           "bgcolor": "#E5ECF6",
           "caxis": {
            "gridcolor": "white",
            "linecolor": "white",
            "ticks": ""
           }
          },
          "title": {
           "x": 0.05
          },
          "xaxis": {
           "automargin": true,
           "gridcolor": "white",
           "linecolor": "white",
           "ticks": "",
           "title": {
            "standoff": 15
           },
           "zerolinecolor": "white",
           "zerolinewidth": 2
          },
          "yaxis": {
           "automargin": true,
           "gridcolor": "white",
           "linecolor": "white",
           "ticks": "",
           "title": {
            "standoff": 15
           },
           "zerolinecolor": "white",
           "zerolinewidth": 2
          }
         }
        },
        "title": {
         "text": "Locations of charging stations in NYC"
        }
       }
      }
     },
     "metadata": {},
     "output_type": "display_data"
    }
   ],
   "source": [
    "dftest = pd.read_csv(\"Electric_Vehicle_Charging_Stations_in_New_York.csv\")\n",
    "cities_to_filter = ['New York', 'Brooklyn', 'Staten Island', 'Bronx', 'Queens']\n",
    "dftest = dftest[dftest['City'].isin(cities_to_filter)]\n",
    "\n",
    "fig = px.scatter_mapbox(\n",
    "    dftest,\n",
    "    lat=\"Latitude\",\n",
    "    lon=\"Longitude\",\n",
    "    mapbox_style=\"carto-positron\",\n",
    "    color=\"City\",\n",
    "    color_discrete_sequence=px.colors.qualitative.Set1\n",
    ")\n",
    "\n",
    "fig.update_layout(title=\"Locations of charging stations in NYC\")\n",
    "\n",
    "fig.show()\n"
   ]
  },
  {
   "attachments": {},
   "cell_type": "markdown",
   "id": "dd362a9c",
   "metadata": {},
   "source": [
    "#### Second argument"
   ]
  },
  {
   "attachments": {},
   "cell_type": "markdown",
   "id": "befef359",
   "metadata": {},
   "source": [
    "## Second perspective"
   ]
  },
  {
   "cell_type": "code",
   "execution_count": null,
   "id": "7d6b6f2a",
   "metadata": {},
   "outputs": [],
   "source": []
  },
  {
   "attachments": {},
   "cell_type": "markdown",
   "id": "5de21f3b",
   "metadata": {},
   "source": [
    "#### Fuel emissions caused by traffic are responsible for only a small fraction of all air pollution. \n",
    "Considering traffic is responsible for only a fraction of all air pollution, and electric vehicles (EVs) are only a small fraction of all vehicles, it is bold to state that the reduction of nitrogen dioxide (NO2) and particular matter 2.5 (PM2.5) are caused by the increase of EVs. "
   ]
  },
  {
   "cell_type": "code",
   "execution_count": null,
   "id": "78b3d05a",
   "metadata": {},
   "outputs": [],
   "source": []
  },
  {
   "attachments": {},
   "cell_type": "markdown",
   "id": "88e17645",
   "metadata": {},
   "source": [
    "#### Second argument\n",
    "Idea: The relative decrease between 2009 and 2020 concerning particles in the air in each county does not correlate with the relative increase of electric vehicles in each county "
   ]
  },
  {
   "cell_type": "code",
   "execution_count": null,
   "id": "0ff49932",
   "metadata": {},
   "outputs": [],
   "source": []
  },
  {
   "attachments": {},
   "cell_type": "markdown",
   "id": "4ad2f346",
   "metadata": {},
   "source": [
    "## Reflection"
   ]
  },
  {
   "attachments": {},
   "cell_type": "markdown",
   "id": "dc4c1939",
   "metadata": {},
   "source": [
    "During the project, we explored the correlation between electric vehicles and air quality in New York City (NYC). NYC was selected due to its large size, data availability, and relatively significant number of cars. The project revolved around two distinct perspectives: evaluating whether the impact of electric vehicles was truly beneficial or insignificant. During the proces of the project, we encountered a few obstacles. Initially, our early visualizations lacked creativity and failed to effectively support our arguments from both perspectives. However, in the final week, we found inspiration and successfully generated compelling graphs that aligned well with our viewpoints. Unfortunately, due to communication issues with our TA, we did not receive peer feedback as anticipated. Nevertheless, we did receive limited feedback from another TA. Despite these challenges, the overall process proceeded smoothly. We successfully portrayed the two different perspectives and significantly enhanced our understanding of data visualization and tools like GitHub."
   ]
  },
  {
   "attachments": {},
   "cell_type": "markdown",
   "id": "26f73872",
   "metadata": {},
   "source": [
    "## Work distribution"
   ]
  },
  {
   "attachments": {},
   "cell_type": "markdown",
   "id": "e8d47167",
   "metadata": {},
   "source": [
    "For the two different perspectives, we divided the group in two. Julian and Bor worked on the first perspective, being 'Electric vehicles have a positive impact on the air quality in cities', and Tom and Joep worked on the second perspective: 'Electric vehicles have no or an insignificant impact on the air quality in cities'. This doesn't mean that the two sides worked separately, but the focus was on their perspective. For example, figure 4, was originally meant to be used in an argument for the first perspective, but turned out to be more usefull for the second one and was eventually used for that one. The general introduction, reflection, work distribution, references and appendix were not assigned to specific team members, but were worked on by everyone. As a team we worked together quite well, often meeting at sciencepark and keeping eachother up to date daily via whatsapp. Generally speaking everyone contributed an equal amount to the end product."
   ]
  },
  {
   "attachments": {},
   "cell_type": "markdown",
   "id": "d8d87115",
   "metadata": {},
   "source": [
    "## References"
   ]
  },
  {
   "attachments": {},
   "cell_type": "markdown",
   "id": "3183b1ea",
   "metadata": {},
   "source": [
    "For making the graphs visually more appealing we used ChatGPT to tweak the code for plotting. For some of the preprocessing, like mapping the area's of NYC to the counties in the Air Quality dataset, we also used ChatGPT to do the mapping for us, as it would be a lot of unnecessary work by hand otherwise."
   ]
  },
  {
   "attachments": {},
   "cell_type": "markdown",
   "id": "b86e2da9",
   "metadata": {},
   "source": [
    "## (Optional) Appendix"
   ]
  },
  {
   "cell_type": "code",
   "execution_count": null,
   "id": "f7e52e0e",
   "metadata": {},
   "outputs": [],
   "source": []
  }
 ],
 "metadata": {
  "celltoolbar": "Metagegevens bewerken",
  "kernelspec": {
   "display_name": "Python 3 (ipykernel)",
   "language": "python",
   "name": "python3"
  },
  "language_info": {
   "codemirror_mode": {
    "name": "ipython",
    "version": 3
   },
   "file_extension": ".py",
   "mimetype": "text/x-python",
   "name": "python",
   "nbconvert_exporter": "python",
   "pygments_lexer": "ipython3",
   "version": "3.10.8"
  }
 },
 "nbformat": 4,
 "nbformat_minor": 5
}
